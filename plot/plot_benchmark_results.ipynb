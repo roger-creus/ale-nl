{
 "cells": [
  {
   "cell_type": "code",
   "execution_count": 30,
   "metadata": {},
   "outputs": [],
   "source": [
    "import pandas as pd\n",
    "import numpy as np\n",
    "import matplotlib.pyplot as plt\n",
    "import seaborn as sns\n",
    "import os"
   ]
  },
  {
   "cell_type": "markdown",
   "metadata": {},
   "source": [
    "### Read Benchmark Data"
   ]
  },
  {
   "cell_type": "code",
   "execution_count": 31,
   "metadata": {},
   "outputs": [],
   "source": [
    "benchmark_results_path = \"../results/\"\n",
    "data = []\n",
    "for root, dirs, files in os.walk(benchmark_results_path):\n",
    "    for file in files:\n",
    "        if file.endswith(\".csv\"):\n",
    "            df_ = pd.read_csv(os.path.join(root, file))\n",
    "            data.append(df_)\n",
    "\n",
    "df = pd.concat(data)"
   ]
  },
  {
   "cell_type": "code",
   "execution_count": 32,
   "metadata": {},
   "outputs": [
    {
     "data": {
      "text/html": [
       "<div>\n",
       "<style scoped>\n",
       "    .dataframe tbody tr th:only-of-type {\n",
       "        vertical-align: middle;\n",
       "    }\n",
       "\n",
       "    .dataframe tbody tr th {\n",
       "        vertical-align: top;\n",
       "    }\n",
       "\n",
       "    .dataframe thead th {\n",
       "        text-align: right;\n",
       "    }\n",
       "</style>\n",
       "<table border=\"1\" class=\"dataframe\">\n",
       "  <thead>\n",
       "    <tr style=\"text-align: right;\">\n",
       "      <th></th>\n",
       "      <th>model_name</th>\n",
       "      <th>env_id</th>\n",
       "      <th>prompt_chain</th>\n",
       "      <th>context_length</th>\n",
       "      <th>episode_reward</th>\n",
       "      <th>episode_length</th>\n",
       "    </tr>\n",
       "  </thead>\n",
       "  <tbody>\n",
       "    <tr>\n",
       "      <th>0</th>\n",
       "      <td>meta-llama/Llama-3.2-1B-Instruct</td>\n",
       "      <td>SpaceInvaders</td>\n",
       "      <td>simple</td>\n",
       "      <td>0</td>\n",
       "      <td>295.0</td>\n",
       "      <td>621</td>\n",
       "    </tr>\n",
       "    <tr>\n",
       "      <th>1</th>\n",
       "      <td>meta-llama/Llama-3.2-1B-Instruct</td>\n",
       "      <td>SpaceInvaders</td>\n",
       "      <td>simple</td>\n",
       "      <td>0</td>\n",
       "      <td>180.0</td>\n",
       "      <td>491</td>\n",
       "    </tr>\n",
       "    <tr>\n",
       "      <th>2</th>\n",
       "      <td>meta-llama/Llama-3.2-1B-Instruct</td>\n",
       "      <td>SpaceInvaders</td>\n",
       "      <td>simple</td>\n",
       "      <td>0</td>\n",
       "      <td>150.0</td>\n",
       "      <td>365</td>\n",
       "    </tr>\n",
       "  </tbody>\n",
       "</table>\n",
       "</div>"
      ],
      "text/plain": [
       "                         model_name         env_id prompt_chain  \\\n",
       "0  meta-llama/Llama-3.2-1B-Instruct  SpaceInvaders       simple   \n",
       "1  meta-llama/Llama-3.2-1B-Instruct  SpaceInvaders       simple   \n",
       "2  meta-llama/Llama-3.2-1B-Instruct  SpaceInvaders       simple   \n",
       "\n",
       "   context_length  episode_reward  episode_length  \n",
       "0               0           295.0             621  \n",
       "1               0           180.0             491  \n",
       "2               0           150.0             365  "
      ]
     },
     "execution_count": 32,
     "metadata": {},
     "output_type": "execute_result"
    }
   ],
   "source": [
    "df.head()"
   ]
  },
  {
   "cell_type": "markdown",
   "metadata": {},
   "source": [
    "### Aggregate Results for each Benchmark run"
   ]
  },
  {
   "cell_type": "code",
   "execution_count": 33,
   "metadata": {},
   "outputs": [],
   "source": [
    "df['mean_reward'] = df.groupby(['model_name', 'env_id', 'prompt_chain', 'context_length'])['episode_reward'].transform('mean')\n",
    "df['std_reward'] = df.groupby(['model_name', 'env_id', 'prompt_chain', 'context_length'])['episode_reward'].transform('std')\n",
    "df['mean_length'] = df.groupby(['model_name', 'env_id', 'prompt_chain', 'context_length'])['episode_length'].transform('mean')\n",
    "df['std_length'] = df.groupby(['model_name', 'env_id', 'prompt_chain', 'context_length'])['episode_length'].transform('std')"
   ]
  },
  {
   "cell_type": "markdown",
   "metadata": {},
   "source": [
    "### Plot"
   ]
  },
  {
   "cell_type": "code",
   "execution_count": 34,
   "metadata": {},
   "outputs": [
    {
     "data": {
      "image/png": "[encoded data removed]",
      "text/plain": [
       "<Figure size 1000x600 with 1 Axes>"
      ]
     },
     "metadata": {},
     "output_type": "display_data"
    }
   ],
   "source": [
    "import numpy as np\n",
    "\n",
    "fig, ax = plt.subplots(figsize=(10, 6))\n",
    "\n",
    "# Sort data for consistency\n",
    "df = df.sort_values(by=['model_name', 'prompt_chain'])\n",
    "\n",
    "# Get unique values\n",
    "envs = df['env_id'].unique()\n",
    "models = df['model_name'].unique()\n",
    "\n",
    "# Define width for grouped bars\n",
    "bar_width = 0.6\n",
    "bar_positions = np.arange(len(envs))\n",
    "\n",
    "# Store bottom positions for stacking\n",
    "bottoms = {env: 0 for env in envs}\n",
    "\n",
    "# Iterate over models and prompt_chain to stack bars\n",
    "for model in models:\n",
    "    subset = df[df['model_name'] == model]\n",
    "    \n",
    "    for prompt_chain in subset['prompt_chain'].unique():\n",
    "        sub_subset = subset[subset['prompt_chain'] == prompt_chain]\n",
    "        \n",
    "        means = sub_subset.groupby('env_id')['mean_reward'].mean()\n",
    "        stds = sub_subset.groupby('env_id')['std_reward'].mean()\n",
    "\n",
    "        ax.bar(\n",
    "            means.index, \n",
    "            means.values, \n",
    "            yerr=stds.values, \n",
    "            label=f\"{model} - {prompt_chain}\", \n",
    "            bottom=[bottoms[env] for env in means.index],\n",
    "            capsize=3\n",
    "        )\n",
    "\n",
    "        # Update bottom positions for stacking\n",
    "        for env in means.index:\n",
    "            bottoms[env] += means[env]\n",
    "\n",
    "ax.set_xticks(bar_positions)\n",
    "ax.set_xticklabels(envs, rotation=45)\n",
    "plt.legend()\n",
    "plt.title('Mean Reward per Environment (Stacked by Prompt Chain)')\n",
    "plt.show()\n"
   ]
  }
 ],
 "metadata": {
  "kernelspec": {
   "display_name": "ale-nlp",
   "language": "python",
   "name": "python3"
  },
  "language_info": {
   "codemirror_mode": {
    "name": "ipython",
    "version": 3
   },
   "file_extension": ".py",
   "mimetype": "text/x-python",
   "name": "python",
   "nbconvert_exporter": "python",
   "pygments_lexer": "ipython3",
   "version": "3.10.16"
  }
 },
 "nbformat": 4,
 "nbformat_minor": 2
}
